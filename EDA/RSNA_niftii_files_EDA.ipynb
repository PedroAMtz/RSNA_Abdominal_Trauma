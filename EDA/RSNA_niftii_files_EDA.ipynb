{
 "cells": [
  {
   "cell_type": "markdown",
   "id": "873a4ce9-b61c-479c-82b3-818e4e2b128f",
   "metadata": {},
   "source": [
    "# RSNA EDA for mapping segmentations files with patient series"
   ]
  },
  {
   "cell_type": "code",
   "execution_count": 1,
   "id": "431159ff-4df2-4985-ab73-2f0119b23076",
   "metadata": {},
   "outputs": [],
   "source": [
    "import pandas as pd \n",
    "import numpy as np\n",
    "import matplotlib.pyplot as plt\n",
    "import os"
   ]
  },
  {
   "cell_type": "markdown",
   "id": "fee3600b-90a6-4610-8b7a-9715233c9e7e",
   "metadata": {},
   "source": [
    "### Exploring train meta csv "
   ]
  },
  {
   "cell_type": "code",
   "execution_count": 2,
   "id": "7caa478e-9229-4bc1-b0fe-b06b6b88f50e",
   "metadata": {},
   "outputs": [],
   "source": [
    "metadata_path = \"D:/Downloads/rsna-2023-abdominal-trauma-detection/train_series_meta.csv\""
   ]
  },
  {
   "cell_type": "code",
   "execution_count": 3,
   "id": "b5f7a6c7-b378-40f1-acc1-4a6ab9f3678b",
   "metadata": {},
   "outputs": [
    {
     "data": {
      "text/html": [
       "<div>\n",
       "<style scoped>\n",
       "    .dataframe tbody tr th:only-of-type {\n",
       "        vertical-align: middle;\n",
       "    }\n",
       "\n",
       "    .dataframe tbody tr th {\n",
       "        vertical-align: top;\n",
       "    }\n",
       "\n",
       "    .dataframe thead th {\n",
       "        text-align: right;\n",
       "    }\n",
       "</style>\n",
       "<table border=\"1\" class=\"dataframe\">\n",
       "  <thead>\n",
       "    <tr style=\"text-align: right;\">\n",
       "      <th></th>\n",
       "      <th>patient_id</th>\n",
       "      <th>series_id</th>\n",
       "      <th>aortic_hu</th>\n",
       "      <th>incomplete_organ</th>\n",
       "    </tr>\n",
       "  </thead>\n",
       "  <tbody>\n",
       "    <tr>\n",
       "      <th>0</th>\n",
       "      <td>10004</td>\n",
       "      <td>21057</td>\n",
       "      <td>146.00</td>\n",
       "      <td>0</td>\n",
       "    </tr>\n",
       "    <tr>\n",
       "      <th>1</th>\n",
       "      <td>10004</td>\n",
       "      <td>51033</td>\n",
       "      <td>454.75</td>\n",
       "      <td>0</td>\n",
       "    </tr>\n",
       "    <tr>\n",
       "      <th>2</th>\n",
       "      <td>10005</td>\n",
       "      <td>18667</td>\n",
       "      <td>187.00</td>\n",
       "      <td>0</td>\n",
       "    </tr>\n",
       "    <tr>\n",
       "      <th>3</th>\n",
       "      <td>10007</td>\n",
       "      <td>47578</td>\n",
       "      <td>329.00</td>\n",
       "      <td>0</td>\n",
       "    </tr>\n",
       "    <tr>\n",
       "      <th>4</th>\n",
       "      <td>10026</td>\n",
       "      <td>29700</td>\n",
       "      <td>327.00</td>\n",
       "      <td>0</td>\n",
       "    </tr>\n",
       "  </tbody>\n",
       "</table>\n",
       "</div>"
      ],
      "text/plain": [
       "   patient_id  series_id  aortic_hu  incomplete_organ\n",
       "0       10004      21057     146.00                 0\n",
       "1       10004      51033     454.75                 0\n",
       "2       10005      18667     187.00                 0\n",
       "3       10007      47578     329.00                 0\n",
       "4       10026      29700     327.00                 0"
      ]
     },
     "execution_count": 3,
     "metadata": {},
     "output_type": "execute_result"
    }
   ],
   "source": [
    "train_metadata = pd.read_csv(metadata_path)\n",
    "train_metadata.head()"
   ]
  },
  {
   "cell_type": "code",
   "execution_count": 4,
   "id": "f54115f1-f095-4582-8be3-9fdc592d888b",
   "metadata": {},
   "outputs": [
    {
     "name": "stdout",
     "output_type": "stream",
     "text": [
      "<class 'pandas.core.frame.DataFrame'>\n",
      "RangeIndex: 4711 entries, 0 to 4710\n",
      "Data columns (total 4 columns):\n",
      " #   Column            Non-Null Count  Dtype  \n",
      "---  ------            --------------  -----  \n",
      " 0   patient_id        4711 non-null   int64  \n",
      " 1   series_id         4711 non-null   int64  \n",
      " 2   aortic_hu         4711 non-null   float64\n",
      " 3   incomplete_organ  4711 non-null   int64  \n",
      "dtypes: float64(1), int64(3)\n",
      "memory usage: 147.3 KB\n"
     ]
    }
   ],
   "source": [
    "train_metadata.info()"
   ]
  },
  {
   "cell_type": "code",
   "execution_count": 5,
   "id": "286da2ce-e29e-40ff-8b63-8b62fbd649a4",
   "metadata": {},
   "outputs": [
    {
     "data": {
      "text/plain": [
       "3147"
      ]
     },
     "execution_count": 5,
     "metadata": {},
     "output_type": "execute_result"
    }
   ],
   "source": [
    "patients = train_metadata[\"patient_id\"].unique()\n",
    "len(patients) "
   ]
  },
  {
   "cell_type": "markdown",
   "id": "cec206d1-d31e-4398-9580-69c3e4e91065",
   "metadata": {},
   "source": [
    "**So all patients are present in this meta csv**"
   ]
  },
  {
   "cell_type": "markdown",
   "id": "11049369-5079-4276-990f-2a215a2bf935",
   "metadata": {},
   "source": [
    "Counting the amount of series for each patient:"
   ]
  },
  {
   "cell_type": "code",
   "execution_count": 6,
   "id": "58cc95df-625d-4f59-a06b-fee376b95df4",
   "metadata": {},
   "outputs": [
    {
     "data": {
      "text/html": [
       "<div>\n",
       "<style scoped>\n",
       "    .dataframe tbody tr th:only-of-type {\n",
       "        vertical-align: middle;\n",
       "    }\n",
       "\n",
       "    .dataframe tbody tr th {\n",
       "        vertical-align: top;\n",
       "    }\n",
       "\n",
       "    .dataframe thead th {\n",
       "        text-align: right;\n",
       "    }\n",
       "</style>\n",
       "<table border=\"1\" class=\"dataframe\">\n",
       "  <thead>\n",
       "    <tr style=\"text-align: right;\">\n",
       "      <th></th>\n",
       "      <th>series_id</th>\n",
       "    </tr>\n",
       "    <tr>\n",
       "      <th>patient_id</th>\n",
       "      <th></th>\n",
       "    </tr>\n",
       "  </thead>\n",
       "  <tbody>\n",
       "    <tr>\n",
       "      <th>19</th>\n",
       "      <td>1</td>\n",
       "    </tr>\n",
       "    <tr>\n",
       "      <th>26</th>\n",
       "      <td>2</td>\n",
       "    </tr>\n",
       "    <tr>\n",
       "      <th>33</th>\n",
       "      <td>1</td>\n",
       "    </tr>\n",
       "    <tr>\n",
       "      <th>43</th>\n",
       "      <td>2</td>\n",
       "    </tr>\n",
       "    <tr>\n",
       "      <th>96</th>\n",
       "      <td>1</td>\n",
       "    </tr>\n",
       "  </tbody>\n",
       "</table>\n",
       "</div>"
      ],
      "text/plain": [
       "            series_id\n",
       "patient_id           \n",
       "19                  1\n",
       "26                  2\n",
       "33                  1\n",
       "43                  2\n",
       "96                  1"
      ]
     },
     "execution_count": 6,
     "metadata": {},
     "output_type": "execute_result"
    }
   ],
   "source": [
    "patient_series = train_metadata[[\"patient_id\", \"series_id\"]].groupby(\"patient_id\").count()\n",
    "patient_series.head()"
   ]
  },
  {
   "cell_type": "code",
   "execution_count": 7,
   "id": "ab1af6ca-de2b-4d9a-b3f3-851af3093532",
   "metadata": {},
   "outputs": [
    {
     "data": {
      "text/html": [
       "<div>\n",
       "<style scoped>\n",
       "    .dataframe tbody tr th:only-of-type {\n",
       "        vertical-align: middle;\n",
       "    }\n",
       "\n",
       "    .dataframe tbody tr th {\n",
       "        vertical-align: top;\n",
       "    }\n",
       "\n",
       "    .dataframe thead th {\n",
       "        text-align: right;\n",
       "    }\n",
       "</style>\n",
       "<table border=\"1\" class=\"dataframe\">\n",
       "  <thead>\n",
       "    <tr style=\"text-align: right;\">\n",
       "      <th></th>\n",
       "      <th>series_id</th>\n",
       "    </tr>\n",
       "  </thead>\n",
       "  <tbody>\n",
       "    <tr>\n",
       "      <th>count</th>\n",
       "      <td>3147.000000</td>\n",
       "    </tr>\n",
       "    <tr>\n",
       "      <th>mean</th>\n",
       "      <td>1.496981</td>\n",
       "    </tr>\n",
       "    <tr>\n",
       "      <th>std</th>\n",
       "      <td>0.500070</td>\n",
       "    </tr>\n",
       "    <tr>\n",
       "      <th>min</th>\n",
       "      <td>1.000000</td>\n",
       "    </tr>\n",
       "    <tr>\n",
       "      <th>25%</th>\n",
       "      <td>1.000000</td>\n",
       "    </tr>\n",
       "    <tr>\n",
       "      <th>50%</th>\n",
       "      <td>1.000000</td>\n",
       "    </tr>\n",
       "    <tr>\n",
       "      <th>75%</th>\n",
       "      <td>2.000000</td>\n",
       "    </tr>\n",
       "    <tr>\n",
       "      <th>max</th>\n",
       "      <td>2.000000</td>\n",
       "    </tr>\n",
       "  </tbody>\n",
       "</table>\n",
       "</div>"
      ],
      "text/plain": [
       "         series_id\n",
       "count  3147.000000\n",
       "mean      1.496981\n",
       "std       0.500070\n",
       "min       1.000000\n",
       "25%       1.000000\n",
       "50%       1.000000\n",
       "75%       2.000000\n",
       "max       2.000000"
      ]
     },
     "execution_count": 7,
     "metadata": {},
     "output_type": "execute_result"
    }
   ],
   "source": [
    "patient_series.describe()"
   ]
  },
  {
   "cell_type": "markdown",
   "id": "35dbd161-c44f-48e9-a11f-451cda69cb6e",
   "metadata": {},
   "source": [
    "Maximum number of series per patient = **2**"
   ]
  },
  {
   "cell_type": "markdown",
   "id": "babd769b-764a-4c59-875a-2e61566cfd3c",
   "metadata": {},
   "source": [
    "### Explore segmentations folder to match through series_id"
   ]
  },
  {
   "cell_type": "code",
   "execution_count": 14,
   "id": "0761e3fa-3ab5-424f-b002-6897765a0525",
   "metadata": {},
   "outputs": [
    {
     "data": {
      "text/plain": [
       "206"
      ]
     },
     "execution_count": 14,
     "metadata": {},
     "output_type": "execute_result"
    }
   ],
   "source": [
    "segmentations_path = \"D:/Downloads/rsna-2023-abdominal-trauma-detection/segmentations\"\n",
    "\n",
    "segmentations = os.listdir(segmentations_path)\n",
    "segmentations = [int(segmentation) for segmentation in segmentations]\n",
    "len(segmentations)"
   ]
  },
  {
   "cell_type": "markdown",
   "id": "4eec0d25-c95e-47e8-96a8-a13685539f48",
   "metadata": {},
   "source": [
    "Only 206 segmentations "
   ]
  },
  {
   "cell_type": "code",
   "execution_count": 15,
   "id": "7936d7ed-2f61-4ad5-b55a-04a1739e0488",
   "metadata": {},
   "outputs": [],
   "source": [
    "series = train_metadata[\"series_id\"].tolist()"
   ]
  },
  {
   "cell_type": "code",
   "execution_count": 16,
   "id": "4103331b-6c03-4529-a421-b9a6fdf7741c",
   "metadata": {},
   "outputs": [
    {
     "data": {
      "text/plain": [
       "4711"
      ]
     },
     "execution_count": 16,
     "metadata": {},
     "output_type": "execute_result"
    }
   ],
   "source": [
    "len(series)"
   ]
  },
  {
   "cell_type": "code",
   "execution_count": 18,
   "id": "f804f067-2af0-42ca-ba47-f12124fe6fc2",
   "metadata": {},
   "outputs": [],
   "source": [
    "matched_series = []\n",
    "\n",
    "for segmentation in segmentations:\n",
    "    if segmentation in series:\n",
    "        matched_series.append(segmentation)\n",
    "    else:\n",
    "        pass "
   ]
  },
  {
   "cell_type": "code",
   "execution_count": 20,
   "id": "8791d3e8-1e4f-4db8-82b6-1462c3966246",
   "metadata": {},
   "outputs": [
    {
     "data": {
      "text/plain": [
       "206"
      ]
     },
     "execution_count": 20,
     "metadata": {},
     "output_type": "execute_result"
    }
   ],
   "source": [
    "len(matched_series)"
   ]
  },
  {
   "cell_type": "markdown",
   "id": "eb227265-ebb3-4c57-9000-f061f533fe8a",
   "metadata": {},
   "source": [
    "We obtained the series but we want also the patients for those series"
   ]
  },
  {
   "cell_type": "code",
   "execution_count": 24,
   "id": "5d7f4b17-dbef-4482-9afc-0a1dc9bbc885",
   "metadata": {},
   "outputs": [
    {
     "data": {
      "text/html": [
       "<div>\n",
       "<style scoped>\n",
       "    .dataframe tbody tr th:only-of-type {\n",
       "        vertical-align: middle;\n",
       "    }\n",
       "\n",
       "    .dataframe tbody tr th {\n",
       "        vertical-align: top;\n",
       "    }\n",
       "\n",
       "    .dataframe thead th {\n",
       "        text-align: right;\n",
       "    }\n",
       "</style>\n",
       "<table border=\"1\" class=\"dataframe\">\n",
       "  <thead>\n",
       "    <tr style=\"text-align: right;\">\n",
       "      <th></th>\n",
       "      <th>patient_id</th>\n",
       "      <th>series_id</th>\n",
       "      <th>aortic_hu</th>\n",
       "      <th>incomplete_organ</th>\n",
       "    </tr>\n",
       "  </thead>\n",
       "  <tbody>\n",
       "    <tr>\n",
       "      <th>0</th>\n",
       "      <td>10004</td>\n",
       "      <td>21057</td>\n",
       "      <td>146.00</td>\n",
       "      <td>0</td>\n",
       "    </tr>\n",
       "    <tr>\n",
       "      <th>1</th>\n",
       "      <td>10004</td>\n",
       "      <td>51033</td>\n",
       "      <td>454.75</td>\n",
       "      <td>0</td>\n",
       "    </tr>\n",
       "    <tr>\n",
       "      <th>21</th>\n",
       "      <td>10217</td>\n",
       "      <td>16066</td>\n",
       "      <td>208.00</td>\n",
       "      <td>0</td>\n",
       "    </tr>\n",
       "    <tr>\n",
       "      <th>22</th>\n",
       "      <td>10228</td>\n",
       "      <td>30522</td>\n",
       "      <td>145.00</td>\n",
       "      <td>0</td>\n",
       "    </tr>\n",
       "    <tr>\n",
       "      <th>23</th>\n",
       "      <td>10228</td>\n",
       "      <td>40471</td>\n",
       "      <td>291.00</td>\n",
       "      <td>0</td>\n",
       "    </tr>\n",
       "  </tbody>\n",
       "</table>\n",
       "</div>"
      ],
      "text/plain": [
       "    patient_id  series_id  aortic_hu  incomplete_organ\n",
       "0        10004      21057     146.00                 0\n",
       "1        10004      51033     454.75                 0\n",
       "21       10217      16066     208.00                 0\n",
       "22       10228      30522     145.00                 0\n",
       "23       10228      40471     291.00                 0"
      ]
     },
     "execution_count": 24,
     "metadata": {},
     "output_type": "execute_result"
    }
   ],
   "source": [
    "patients_segment = train_metadata[train_metadata[\"series_id\"].isin(matched_series)]\n",
    "patients_segment.head()"
   ]
  },
  {
   "cell_type": "code",
   "execution_count": 27,
   "id": "d01be9ef-47fb-4cb7-8d92-c020019a7953",
   "metadata": {},
   "outputs": [
    {
     "data": {
      "text/plain": [
       "array([10004, 10217, 10228, 10300, 10917, 10937, 11177, 11652, 13623,\n",
       "       13741, 13794, 14309, 14321, 14343, 14950, 15117,  1523, 15876,\n",
       "       16140, 16327, 16436, 16494, 16645, 16682, 17265, 18682, 18697,\n",
       "       18877, 19249, 19410, 20621, 20951, 21141, 21411, 22623, 22755,\n",
       "       24439, 24524, 25093, 25102, 25347, 28095, 28569, 28925, 28976,\n",
       "       29565, 30446, 31636, 32272, 32425, 33007, 33251, 33848, 34409,\n",
       "       35056,  3506, 35653, 36022, 36105, 36289, 37169, 37429, 37436,\n",
       "       37459, 37551, 37802, 38045, 38238, 38427, 38541, 38982, 39330,\n",
       "        3983,  4093, 41306, 41360, 42008, 42436, 43399, 43492, 43551,\n",
       "       44136, 44507, 44693, 45488, 46904, 47065, 47263,  4791, 48710,\n",
       "       50486, 50518, 50753, 50820, 50873, 51520, 51545, 52416, 53108,\n",
       "       53294, 54183, 54361, 54722, 54832, 55567, 55710, 55888, 56050,\n",
       "       57444, 57563, 58729, 60058, 60744, 60836, 61547, 62116, 62360,\n",
       "       62397, 62763, 62845, 64194, 64256, 65326, 65456, 65504,  7642,\n",
       "        8848,  9813], dtype=int64)"
      ]
     },
     "execution_count": 27,
     "metadata": {},
     "output_type": "execute_result"
    }
   ],
   "source": [
    "patients_with_segmentations = patients_segment[\"patient_id\"].unique()\n",
    "patients_with_segmentations"
   ]
  },
  {
   "cell_type": "code",
   "execution_count": 28,
   "id": "d5910755-0b05-4384-a4a2-fefad68dba92",
   "metadata": {},
   "outputs": [
    {
     "data": {
      "text/plain": [
       "128"
      ]
     },
     "execution_count": 28,
     "metadata": {},
     "output_type": "execute_result"
    }
   ],
   "source": [
    "len(patients_with_segmentations)"
   ]
  },
  {
   "cell_type": "code",
   "execution_count": 30,
   "id": "c896adcb-7dbe-4cde-9c2a-efec804b8241",
   "metadata": {},
   "outputs": [],
   "source": [
    "train_data = pd.read_csv(\"D:/Downloads/rsna-2023-abdominal-trauma-detection/train.csv\")"
   ]
  },
  {
   "cell_type": "code",
   "execution_count": 32,
   "id": "4a09f2be-c5ca-42eb-8dae-66475d4fe09c",
   "metadata": {},
   "outputs": [
    {
     "data": {
      "text/html": [
       "<div>\n",
       "<style scoped>\n",
       "    .dataframe tbody tr th:only-of-type {\n",
       "        vertical-align: middle;\n",
       "    }\n",
       "\n",
       "    .dataframe tbody tr th {\n",
       "        vertical-align: top;\n",
       "    }\n",
       "\n",
       "    .dataframe thead th {\n",
       "        text-align: right;\n",
       "    }\n",
       "</style>\n",
       "<table border=\"1\" class=\"dataframe\">\n",
       "  <thead>\n",
       "    <tr style=\"text-align: right;\">\n",
       "      <th></th>\n",
       "      <th>patient_id</th>\n",
       "      <th>bowel_healthy</th>\n",
       "      <th>bowel_injury</th>\n",
       "      <th>extravasation_healthy</th>\n",
       "      <th>extravasation_injury</th>\n",
       "      <th>kidney_healthy</th>\n",
       "      <th>kidney_low</th>\n",
       "      <th>kidney_high</th>\n",
       "      <th>liver_healthy</th>\n",
       "      <th>liver_low</th>\n",
       "      <th>liver_high</th>\n",
       "      <th>spleen_healthy</th>\n",
       "      <th>spleen_low</th>\n",
       "      <th>spleen_high</th>\n",
       "      <th>any_injury</th>\n",
       "    </tr>\n",
       "  </thead>\n",
       "  <tbody>\n",
       "    <tr>\n",
       "      <th>0</th>\n",
       "      <td>10004</td>\n",
       "      <td>1</td>\n",
       "      <td>0</td>\n",
       "      <td>0</td>\n",
       "      <td>1</td>\n",
       "      <td>0</td>\n",
       "      <td>1</td>\n",
       "      <td>0</td>\n",
       "      <td>1</td>\n",
       "      <td>0</td>\n",
       "      <td>0</td>\n",
       "      <td>0</td>\n",
       "      <td>0</td>\n",
       "      <td>1</td>\n",
       "      <td>1</td>\n",
       "    </tr>\n",
       "    <tr>\n",
       "      <th>16</th>\n",
       "      <td>10217</td>\n",
       "      <td>1</td>\n",
       "      <td>0</td>\n",
       "      <td>0</td>\n",
       "      <td>1</td>\n",
       "      <td>1</td>\n",
       "      <td>0</td>\n",
       "      <td>0</td>\n",
       "      <td>0</td>\n",
       "      <td>1</td>\n",
       "      <td>0</td>\n",
       "      <td>0</td>\n",
       "      <td>0</td>\n",
       "      <td>1</td>\n",
       "      <td>1</td>\n",
       "    </tr>\n",
       "    <tr>\n",
       "      <th>17</th>\n",
       "      <td>10228</td>\n",
       "      <td>1</td>\n",
       "      <td>0</td>\n",
       "      <td>1</td>\n",
       "      <td>0</td>\n",
       "      <td>1</td>\n",
       "      <td>0</td>\n",
       "      <td>0</td>\n",
       "      <td>0</td>\n",
       "      <td>1</td>\n",
       "      <td>0</td>\n",
       "      <td>0</td>\n",
       "      <td>1</td>\n",
       "      <td>0</td>\n",
       "      <td>1</td>\n",
       "    </tr>\n",
       "    <tr>\n",
       "      <th>24</th>\n",
       "      <td>10300</td>\n",
       "      <td>1</td>\n",
       "      <td>0</td>\n",
       "      <td>1</td>\n",
       "      <td>0</td>\n",
       "      <td>1</td>\n",
       "      <td>0</td>\n",
       "      <td>0</td>\n",
       "      <td>0</td>\n",
       "      <td>1</td>\n",
       "      <td>0</td>\n",
       "      <td>0</td>\n",
       "      <td>1</td>\n",
       "      <td>0</td>\n",
       "      <td>1</td>\n",
       "    </tr>\n",
       "    <tr>\n",
       "      <th>48</th>\n",
       "      <td>10917</td>\n",
       "      <td>0</td>\n",
       "      <td>1</td>\n",
       "      <td>1</td>\n",
       "      <td>0</td>\n",
       "      <td>1</td>\n",
       "      <td>0</td>\n",
       "      <td>0</td>\n",
       "      <td>1</td>\n",
       "      <td>0</td>\n",
       "      <td>0</td>\n",
       "      <td>0</td>\n",
       "      <td>1</td>\n",
       "      <td>0</td>\n",
       "      <td>1</td>\n",
       "    </tr>\n",
       "    <tr>\n",
       "      <th>...</th>\n",
       "      <td>...</td>\n",
       "      <td>...</td>\n",
       "      <td>...</td>\n",
       "      <td>...</td>\n",
       "      <td>...</td>\n",
       "      <td>...</td>\n",
       "      <td>...</td>\n",
       "      <td>...</td>\n",
       "      <td>...</td>\n",
       "      <td>...</td>\n",
       "      <td>...</td>\n",
       "      <td>...</td>\n",
       "      <td>...</td>\n",
       "      <td>...</td>\n",
       "      <td>...</td>\n",
       "    </tr>\n",
       "    <tr>\n",
       "      <th>2972</th>\n",
       "      <td>65456</td>\n",
       "      <td>0</td>\n",
       "      <td>1</td>\n",
       "      <td>1</td>\n",
       "      <td>0</td>\n",
       "      <td>1</td>\n",
       "      <td>0</td>\n",
       "      <td>0</td>\n",
       "      <td>1</td>\n",
       "      <td>0</td>\n",
       "      <td>0</td>\n",
       "      <td>0</td>\n",
       "      <td>0</td>\n",
       "      <td>1</td>\n",
       "      <td>1</td>\n",
       "    </tr>\n",
       "    <tr>\n",
       "      <th>2975</th>\n",
       "      <td>65504</td>\n",
       "      <td>1</td>\n",
       "      <td>0</td>\n",
       "      <td>1</td>\n",
       "      <td>0</td>\n",
       "      <td>1</td>\n",
       "      <td>0</td>\n",
       "      <td>0</td>\n",
       "      <td>0</td>\n",
       "      <td>1</td>\n",
       "      <td>0</td>\n",
       "      <td>0</td>\n",
       "      <td>0</td>\n",
       "      <td>1</td>\n",
       "      <td>1</td>\n",
       "    </tr>\n",
       "    <tr>\n",
       "      <th>3038</th>\n",
       "      <td>7642</td>\n",
       "      <td>0</td>\n",
       "      <td>1</td>\n",
       "      <td>1</td>\n",
       "      <td>0</td>\n",
       "      <td>1</td>\n",
       "      <td>0</td>\n",
       "      <td>0</td>\n",
       "      <td>0</td>\n",
       "      <td>1</td>\n",
       "      <td>0</td>\n",
       "      <td>0</td>\n",
       "      <td>1</td>\n",
       "      <td>0</td>\n",
       "      <td>1</td>\n",
       "    </tr>\n",
       "    <tr>\n",
       "      <th>3091</th>\n",
       "      <td>8848</td>\n",
       "      <td>1</td>\n",
       "      <td>0</td>\n",
       "      <td>1</td>\n",
       "      <td>0</td>\n",
       "      <td>1</td>\n",
       "      <td>0</td>\n",
       "      <td>0</td>\n",
       "      <td>0</td>\n",
       "      <td>1</td>\n",
       "      <td>0</td>\n",
       "      <td>0</td>\n",
       "      <td>1</td>\n",
       "      <td>0</td>\n",
       "      <td>1</td>\n",
       "    </tr>\n",
       "    <tr>\n",
       "      <th>3139</th>\n",
       "      <td>9813</td>\n",
       "      <td>1</td>\n",
       "      <td>0</td>\n",
       "      <td>1</td>\n",
       "      <td>0</td>\n",
       "      <td>1</td>\n",
       "      <td>0</td>\n",
       "      <td>0</td>\n",
       "      <td>0</td>\n",
       "      <td>1</td>\n",
       "      <td>0</td>\n",
       "      <td>0</td>\n",
       "      <td>0</td>\n",
       "      <td>1</td>\n",
       "      <td>1</td>\n",
       "    </tr>\n",
       "  </tbody>\n",
       "</table>\n",
       "<p>128 rows × 15 columns</p>\n",
       "</div>"
      ],
      "text/plain": [
       "      patient_id  bowel_healthy  bowel_injury  extravasation_healthy  \\\n",
       "0          10004              1             0                      0   \n",
       "16         10217              1             0                      0   \n",
       "17         10228              1             0                      1   \n",
       "24         10300              1             0                      1   \n",
       "48         10917              0             1                      1   \n",
       "...          ...            ...           ...                    ...   \n",
       "2972       65456              0             1                      1   \n",
       "2975       65504              1             0                      1   \n",
       "3038        7642              0             1                      1   \n",
       "3091        8848              1             0                      1   \n",
       "3139        9813              1             0                      1   \n",
       "\n",
       "      extravasation_injury  kidney_healthy  kidney_low  kidney_high  \\\n",
       "0                        1               0           1            0   \n",
       "16                       1               1           0            0   \n",
       "17                       0               1           0            0   \n",
       "24                       0               1           0            0   \n",
       "48                       0               1           0            0   \n",
       "...                    ...             ...         ...          ...   \n",
       "2972                     0               1           0            0   \n",
       "2975                     0               1           0            0   \n",
       "3038                     0               1           0            0   \n",
       "3091                     0               1           0            0   \n",
       "3139                     0               1           0            0   \n",
       "\n",
       "      liver_healthy  liver_low  liver_high  spleen_healthy  spleen_low  \\\n",
       "0                 1          0           0               0           0   \n",
       "16                0          1           0               0           0   \n",
       "17                0          1           0               0           1   \n",
       "24                0          1           0               0           1   \n",
       "48                1          0           0               0           1   \n",
       "...             ...        ...         ...             ...         ...   \n",
       "2972              1          0           0               0           0   \n",
       "2975              0          1           0               0           0   \n",
       "3038              0          1           0               0           1   \n",
       "3091              0          1           0               0           1   \n",
       "3139              0          1           0               0           0   \n",
       "\n",
       "      spleen_high  any_injury  \n",
       "0               1           1  \n",
       "16              1           1  \n",
       "17              0           1  \n",
       "24              0           1  \n",
       "48              0           1  \n",
       "...           ...         ...  \n",
       "2972            1           1  \n",
       "2975            1           1  \n",
       "3038            0           1  \n",
       "3091            0           1  \n",
       "3139            1           1  \n",
       "\n",
       "[128 rows x 15 columns]"
      ]
     },
     "execution_count": 32,
     "metadata": {},
     "output_type": "execute_result"
    }
   ],
   "source": [
    "train_data[train_data[\"patient_id\"].isin(patients_with_segmentations)]"
   ]
  },
  {
   "cell_type": "code",
   "execution_count": null,
   "id": "41fa3801-8255-494e-9201-12689492ee6d",
   "metadata": {},
   "outputs": [],
   "source": []
  }
 ],
 "metadata": {
  "kernelspec": {
   "display_name": "local-venv",
   "language": "python",
   "name": "local-venv"
  },
  "language_info": {
   "codemirror_mode": {
    "name": "ipython",
    "version": 3
   },
   "file_extension": ".py",
   "mimetype": "text/x-python",
   "name": "python",
   "nbconvert_exporter": "python",
   "pygments_lexer": "ipython3",
   "version": "3.11.4"
  }
 },
 "nbformat": 4,
 "nbformat_minor": 5
}
