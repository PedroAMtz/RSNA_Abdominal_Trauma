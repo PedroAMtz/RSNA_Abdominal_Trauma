{
 "cells": [
  {
   "cell_type": "markdown",
   "id": "873a4ce9-b61c-479c-82b3-818e4e2b128f",
   "metadata": {},
   "source": [
    "# RSNA EDA for mapping segmentations files with patient series"
   ]
  },
  {
   "cell_type": "code",
   "execution_count": 2,
   "id": "431159ff-4df2-4985-ab73-2f0119b23076",
   "metadata": {},
   "outputs": [],
   "source": [
    "import pandas as pd \n",
    "import numpy as np\n",
    "import matplotlib.pyplot as plt\n",
    "import os"
   ]
  },
  {
   "cell_type": "markdown",
   "id": "fee3600b-90a6-4610-8b7a-9715233c9e7e",
   "metadata": {},
   "source": [
    "### Exploring train meta csv "
   ]
  },
  {
   "cell_type": "code",
   "execution_count": 3,
   "id": "7caa478e-9229-4bc1-b0fe-b06b6b88f50e",
   "metadata": {},
   "outputs": [],
   "source": [
    "metadata_path = \"D:/Downloads/rsna-2023-abdominal-trauma-detection/train_series_meta.csv\""
   ]
  },
  {
   "cell_type": "code",
   "execution_count": 4,
   "id": "b5f7a6c7-b378-40f1-acc1-4a6ab9f3678b",
   "metadata": {},
   "outputs": [
    {
     "data": {
      "text/html": [
       "<div>\n",
       "<style scoped>\n",
       "    .dataframe tbody tr th:only-of-type {\n",
       "        vertical-align: middle;\n",
       "    }\n",
       "\n",
       "    .dataframe tbody tr th {\n",
       "        vertical-align: top;\n",
       "    }\n",
       "\n",
       "    .dataframe thead th {\n",
       "        text-align: right;\n",
       "    }\n",
       "</style>\n",
       "<table border=\"1\" class=\"dataframe\">\n",
       "  <thead>\n",
       "    <tr style=\"text-align: right;\">\n",
       "      <th></th>\n",
       "      <th>patient_id</th>\n",
       "      <th>series_id</th>\n",
       "      <th>aortic_hu</th>\n",
       "      <th>incomplete_organ</th>\n",
       "    </tr>\n",
       "  </thead>\n",
       "  <tbody>\n",
       "    <tr>\n",
       "      <th>0</th>\n",
       "      <td>10004</td>\n",
       "      <td>21057</td>\n",
       "      <td>146.00</td>\n",
       "      <td>0</td>\n",
       "    </tr>\n",
       "    <tr>\n",
       "      <th>1</th>\n",
       "      <td>10004</td>\n",
       "      <td>51033</td>\n",
       "      <td>454.75</td>\n",
       "      <td>0</td>\n",
       "    </tr>\n",
       "    <tr>\n",
       "      <th>2</th>\n",
       "      <td>10005</td>\n",
       "      <td>18667</td>\n",
       "      <td>187.00</td>\n",
       "      <td>0</td>\n",
       "    </tr>\n",
       "    <tr>\n",
       "      <th>3</th>\n",
       "      <td>10007</td>\n",
       "      <td>47578</td>\n",
       "      <td>329.00</td>\n",
       "      <td>0</td>\n",
       "    </tr>\n",
       "    <tr>\n",
       "      <th>4</th>\n",
       "      <td>10026</td>\n",
       "      <td>29700</td>\n",
       "      <td>327.00</td>\n",
       "      <td>0</td>\n",
       "    </tr>\n",
       "  </tbody>\n",
       "</table>\n",
       "</div>"
      ],
      "text/plain": [
       "   patient_id  series_id  aortic_hu  incomplete_organ\n",
       "0       10004      21057     146.00                 0\n",
       "1       10004      51033     454.75                 0\n",
       "2       10005      18667     187.00                 0\n",
       "3       10007      47578     329.00                 0\n",
       "4       10026      29700     327.00                 0"
      ]
     },
     "execution_count": 4,
     "metadata": {},
     "output_type": "execute_result"
    }
   ],
   "source": [
    "train_metadata = pd.read_csv(metadata_path)\n",
    "train_metadata.head()"
   ]
  },
  {
   "cell_type": "code",
   "execution_count": 5,
   "id": "f54115f1-f095-4582-8be3-9fdc592d888b",
   "metadata": {},
   "outputs": [
    {
     "name": "stdout",
     "output_type": "stream",
     "text": [
      "<class 'pandas.core.frame.DataFrame'>\n",
      "RangeIndex: 4711 entries, 0 to 4710\n",
      "Data columns (total 4 columns):\n",
      " #   Column            Non-Null Count  Dtype  \n",
      "---  ------            --------------  -----  \n",
      " 0   patient_id        4711 non-null   int64  \n",
      " 1   series_id         4711 non-null   int64  \n",
      " 2   aortic_hu         4711 non-null   float64\n",
      " 3   incomplete_organ  4711 non-null   int64  \n",
      "dtypes: float64(1), int64(3)\n",
      "memory usage: 147.3 KB\n"
     ]
    }
   ],
   "source": [
    "train_metadata.info()"
   ]
  },
  {
   "cell_type": "code",
   "execution_count": 8,
   "id": "286da2ce-e29e-40ff-8b63-8b62fbd649a4",
   "metadata": {},
   "outputs": [
    {
     "data": {
      "text/plain": [
       "3147"
      ]
     },
     "execution_count": 8,
     "metadata": {},
     "output_type": "execute_result"
    }
   ],
   "source": [
    "patients = train_metadata[\"patient_id\"].unique()\n",
    "len(patients) "
   ]
  },
  {
   "cell_type": "markdown",
   "id": "cec206d1-d31e-4398-9580-69c3e4e91065",
   "metadata": {},
   "source": [
    "**So all patients are present in this meta csv**"
   ]
  },
  {
   "cell_type": "markdown",
   "id": "11049369-5079-4276-990f-2a215a2bf935",
   "metadata": {},
   "source": [
    "Counting the amount of series for each patient:"
   ]
  },
  {
   "cell_type": "code",
   "execution_count": 12,
   "id": "58cc95df-625d-4f59-a06b-fee376b95df4",
   "metadata": {},
   "outputs": [
    {
     "data": {
      "text/html": [
       "<div>\n",
       "<style scoped>\n",
       "    .dataframe tbody tr th:only-of-type {\n",
       "        vertical-align: middle;\n",
       "    }\n",
       "\n",
       "    .dataframe tbody tr th {\n",
       "        vertical-align: top;\n",
       "    }\n",
       "\n",
       "    .dataframe thead th {\n",
       "        text-align: right;\n",
       "    }\n",
       "</style>\n",
       "<table border=\"1\" class=\"dataframe\">\n",
       "  <thead>\n",
       "    <tr style=\"text-align: right;\">\n",
       "      <th></th>\n",
       "      <th>series_id</th>\n",
       "    </tr>\n",
       "    <tr>\n",
       "      <th>patient_id</th>\n",
       "      <th></th>\n",
       "    </tr>\n",
       "  </thead>\n",
       "  <tbody>\n",
       "    <tr>\n",
       "      <th>19</th>\n",
       "      <td>1</td>\n",
       "    </tr>\n",
       "    <tr>\n",
       "      <th>26</th>\n",
       "      <td>2</td>\n",
       "    </tr>\n",
       "    <tr>\n",
       "      <th>33</th>\n",
       "      <td>1</td>\n",
       "    </tr>\n",
       "    <tr>\n",
       "      <th>43</th>\n",
       "      <td>2</td>\n",
       "    </tr>\n",
       "    <tr>\n",
       "      <th>96</th>\n",
       "      <td>1</td>\n",
       "    </tr>\n",
       "  </tbody>\n",
       "</table>\n",
       "</div>"
      ],
      "text/plain": [
       "            series_id\n",
       "patient_id           \n",
       "19                  1\n",
       "26                  2\n",
       "33                  1\n",
       "43                  2\n",
       "96                  1"
      ]
     },
     "execution_count": 12,
     "metadata": {},
     "output_type": "execute_result"
    }
   ],
   "source": [
    "patient_series = train_metadata[[\"patient_id\", \"series_id\"]].groupby(\"patient_id\").count()\n",
    "patient_series.head()"
   ]
  },
  {
   "cell_type": "code",
   "execution_count": 15,
   "id": "ab1af6ca-de2b-4d9a-b3f3-851af3093532",
   "metadata": {},
   "outputs": [
    {
     "data": {
      "text/html": [
       "<div>\n",
       "<style scoped>\n",
       "    .dataframe tbody tr th:only-of-type {\n",
       "        vertical-align: middle;\n",
       "    }\n",
       "\n",
       "    .dataframe tbody tr th {\n",
       "        vertical-align: top;\n",
       "    }\n",
       "\n",
       "    .dataframe thead th {\n",
       "        text-align: right;\n",
       "    }\n",
       "</style>\n",
       "<table border=\"1\" class=\"dataframe\">\n",
       "  <thead>\n",
       "    <tr style=\"text-align: right;\">\n",
       "      <th></th>\n",
       "      <th>series_id</th>\n",
       "    </tr>\n",
       "  </thead>\n",
       "  <tbody>\n",
       "    <tr>\n",
       "      <th>count</th>\n",
       "      <td>3147.000000</td>\n",
       "    </tr>\n",
       "    <tr>\n",
       "      <th>mean</th>\n",
       "      <td>1.496981</td>\n",
       "    </tr>\n",
       "    <tr>\n",
       "      <th>std</th>\n",
       "      <td>0.500070</td>\n",
       "    </tr>\n",
       "    <tr>\n",
       "      <th>min</th>\n",
       "      <td>1.000000</td>\n",
       "    </tr>\n",
       "    <tr>\n",
       "      <th>25%</th>\n",
       "      <td>1.000000</td>\n",
       "    </tr>\n",
       "    <tr>\n",
       "      <th>50%</th>\n",
       "      <td>1.000000</td>\n",
       "    </tr>\n",
       "    <tr>\n",
       "      <th>75%</th>\n",
       "      <td>2.000000</td>\n",
       "    </tr>\n",
       "    <tr>\n",
       "      <th>max</th>\n",
       "      <td>2.000000</td>\n",
       "    </tr>\n",
       "  </tbody>\n",
       "</table>\n",
       "</div>"
      ],
      "text/plain": [
       "         series_id\n",
       "count  3147.000000\n",
       "mean      1.496981\n",
       "std       0.500070\n",
       "min       1.000000\n",
       "25%       1.000000\n",
       "50%       1.000000\n",
       "75%       2.000000\n",
       "max       2.000000"
      ]
     },
     "execution_count": 15,
     "metadata": {},
     "output_type": "execute_result"
    }
   ],
   "source": [
    "patient_series.describe()"
   ]
  },
  {
   "cell_type": "markdown",
   "id": "35dbd161-c44f-48e9-a11f-451cda69cb6e",
   "metadata": {},
   "source": [
    "Maximum number of series per patient = **2**"
   ]
  },
  {
   "cell_type": "markdown",
   "id": "babd769b-764a-4c59-875a-2e61566cfd3c",
   "metadata": {},
   "source": [
    "### Explore segmentations folder to match through series_id"
   ]
  },
  {
   "cell_type": "code",
   "execution_count": 16,
   "id": "0761e3fa-3ab5-424f-b002-6897765a0525",
   "metadata": {},
   "outputs": [
    {
     "data": {
      "text/plain": [
       "206"
      ]
     },
     "execution_count": 16,
     "metadata": {},
     "output_type": "execute_result"
    }
   ],
   "source": [
    "segmentations_path = \"D:/Downloads/rsna-2023-abdominal-trauma-detection/segmentations\"\n",
    "\n",
    "segmentations = os.listdir(segmentations_path)\n",
    "len(segmentations)"
   ]
  },
  {
   "cell_type": "markdown",
   "id": "4eec0d25-c95e-47e8-96a8-a13685539f48",
   "metadata": {},
   "source": [
    "Only 206 segmentations "
   ]
  },
  {
   "cell_type": "code",
   "execution_count": 21,
   "id": "7936d7ed-2f61-4ad5-b55a-04a1739e0488",
   "metadata": {},
   "outputs": [],
   "source": [
    "series = train_metadata[\"series_id\"].tolist()"
   ]
  },
  {
   "cell_type": "code",
   "execution_count": 23,
   "id": "4103331b-6c03-4529-a421-b9a6fdf7741c",
   "metadata": {},
   "outputs": [
    {
     "data": {
      "text/plain": [
       "4711"
      ]
     },
     "execution_count": 23,
     "metadata": {},
     "output_type": "execute_result"
    }
   ],
   "source": [
    "len(series)"
   ]
  },
  {
   "cell_type": "code",
   "execution_count": 42,
   "id": "f804f067-2af0-42ca-ba47-f12124fe6fc2",
   "metadata": {},
   "outputs": [],
   "source": [
    "matched_series = []\n",
    "\n",
    "for segmentation in segmentations:\n",
    "    if segmentation in series:\n",
    "        print(\"series & segmentation match\")\n",
    "        matched_series.append(segmentation)\n",
    "    else:\n",
    "        pass "
   ]
  },
  {
   "cell_type": "code",
   "execution_count": 43,
   "id": "be0b3821-8407-446e-a115-8932596b5b35",
   "metadata": {},
   "outputs": [],
   "source": [
    "matched_patients = []\n",
    "patients = train_metadata[\"patient_id\"].unique().tolist()\n",
    "\n",
    "for patient in patients:\n",
    "    if patient in segmentations:\n",
    "        print(\"patients & segmentation match\")\n",
    "        matched_patients.append(patient)\n",
    "    else:\n",
    "        pass"
   ]
  },
  {
   "cell_type": "code",
   "execution_count": 44,
   "id": "a861f891-52e8-4fb3-b809-4208c1d93346",
   "metadata": {},
   "outputs": [
    {
     "data": {
      "text/plain": [
       "[]"
      ]
     },
     "execution_count": 44,
     "metadata": {},
     "output_type": "execute_result"
    }
   ],
   "source": [
    "matched_patients"
   ]
  },
  {
   "cell_type": "code",
   "execution_count": null,
   "id": "72009723-dc29-4074-b17b-01d4c2942d98",
   "metadata": {},
   "outputs": [],
   "source": []
  }
 ],
 "metadata": {
  "kernelspec": {
   "display_name": "local-venv",
   "language": "python",
   "name": "local-venv"
  },
  "language_info": {
   "codemirror_mode": {
    "name": "ipython",
    "version": 3
   },
   "file_extension": ".py",
   "mimetype": "text/x-python",
   "name": "python",
   "nbconvert_exporter": "python",
   "pygments_lexer": "ipython3",
   "version": "3.11.4"
  }
 },
 "nbformat": 4,
 "nbformat_minor": 5
}
