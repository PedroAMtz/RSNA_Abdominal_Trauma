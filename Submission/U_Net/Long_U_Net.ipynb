{
  "cells": [
    {
      "cell_type": "markdown",
      "metadata": {
        "id": "C5qI7EbuXevz"
      },
      "source": [
        "# Imports"
      ]
    },
    {
      "cell_type": "code",
      "execution_count": null,
      "metadata": {
        "id": "TmKH0IW6XrnR"
      },
      "outputs": [],
      "source": [
        "!pip install pydicom"
      ]
    },
    {
      "cell_type": "code",
      "execution_count": null,
      "metadata": {
        "id": "NCZMfnlfWnkL"
      },
      "outputs": [],
      "source": [
        "import pandas as pd\n",
        "import numpy as np\n",
        "import matplotlib.pyplot as plt\n",
        "from keras.utils import to_categorical\n",
        "import os\n",
        "import re\n",
        "import cv2\n",
        "import pydicom\n",
        "import nibabel as nib\n",
        "from glob import glob\n",
        "from sklearn import preprocessing\n",
        "from sklearn.model_selection import train_test_split\n",
        "import tensorflow as tf\n",
        "from keras import backend as K\n",
        "import math\n",
        "tf.config.run_functions_eagerly(True)"
      ]
    },
    {
      "cell_type": "code",
      "execution_count": null,
      "metadata": {
        "colab": {
          "base_uri": "https://localhost:8080/"
        },
        "id": "sp1duArA35uv",
        "outputId": "05fe2def-df5b-44f7-c9cf-270f6bd9d7b6"
      },
      "outputs": [
        {
          "output_type": "stream",
          "name": "stdout",
          "text": [
            "Drive already mounted at /content/drive; to attempt to forcibly remount, call drive.mount(\"/content/drive\", force_remount=True).\n"
          ]
        }
      ],
      "source": [
        "from google.colab import drive\n",
        "drive.mount('/content/drive')"
      ]
    },
    {
      "cell_type": "markdown",
      "metadata": {
        "id": "E4-JV9jjY2ny"
      },
      "source": [
        "# Custom Metrics"
      ]
    },
    {
      "cell_type": "code",
      "execution_count": null,
      "metadata": {
        "id": "1b372Sc_X-lq"
      },
      "outputs": [],
      "source": [
        "def dice_coef(y_true, y_pred):\n",
        "    y_true = tf.cast(y_true, tf.float32)\n",
        "    y_pred = tf.cast(y_pred, tf.float32)\n",
        "\n",
        "    y_true_f = K.flatten(y_true)\n",
        "    y_pred_f = K.flatten(y_pred)\n",
        "    intersection = K.sum(y_true_f * y_pred_f)\n",
        "    smooth = 0.0001\n",
        "    return (2. * intersection + smooth) / (K.sum(y_true_f) + K.sum(y_pred_f) + smooth)\n",
        "\n",
        "def dice_coef_multilabel(y_true, y_pred, numLabels = 6):\n",
        "    dice = 0\n",
        "    weights = [0.17649986,  7.78453571, 41.53978194, 65.20657672, 96.75504125,  6.40743063]\n",
        "    for index in range(numLabels):\n",
        "        dice += dice_coef(y_true[:,:,index], y_pred[:,:,index]) * weights[index]\n",
        "    return dice/np.sum(weights)\n",
        "\n",
        "def dice_coef_multilabelloss(y_true, y_pred):\n",
        "    return 1 - dice_coef_multilabel(y_true, y_pred)\n",
        "\n",
        "def weightedLoss(originalLossFunc, weightsList):\n",
        "\n",
        "    def lossFunc(true, pred):\n",
        "        true = K.cast(true, K.floatx())\n",
        "        pred = K.cast(pred, K.floatx())\n",
        "\n",
        "        axis = -1 #if channels last\n",
        "          #axis=  1 #if channels first\n",
        "\n",
        "\n",
        "          #argmax returns the index of the element with the greatest value\n",
        "          #done in the class axis, it returns the class index\n",
        "        classSelectors = K.argmax(true, axis=axis)\n",
        "              #if your loss is sparse, use only true as classSelectors\n",
        "\n",
        "          #considering weights are ordered by class, for each class\n",
        "          #true(1) if the class index is equal to the weight index\n",
        "          #weightsList = tf.cast(weightsList, tf.int64)\n",
        "        classSelectors = [K.equal(tf.cast(i, tf.int64), tf.cast(classSelectors, tf.int64)) for i in range(len(weightsList))]\n",
        "\n",
        "          #casting boolean to float for calculations\n",
        "          #each tensor in the list contains 1 where ground true class is equal to its index\n",
        "          #if you sum all these, you will get a tensor full of ones.\n",
        "        classSelectors = [K.cast(x, K.floatx()) for x in classSelectors]\n",
        "\n",
        "          #for each of the selections above, multiply their respective weight\n",
        "        weights = [sel * w for sel,w in zip(classSelectors, weightsList)]\n",
        "\n",
        "          #sums all the selections\n",
        "          #result is a tensor with the respective weight for each element in predictions\n",
        "        weightMultiplier = weights[0]\n",
        "        for i in range(1, len(weights)):\n",
        "            weightMultiplier = weightMultiplier + weights[i]\n",
        "\n",
        "\n",
        "          #make sure your originalLossFunc only collapses the class axis\n",
        "          #you need the other axes intact to multiply the weights tensor\n",
        "        loss = originalLossFunc(true,pred)\n",
        "        loss = loss * weightMultiplier\n",
        "\n",
        "        return loss\n",
        "    return lossFunc"
      ]
    },
    {
      "cell_type": "markdown",
      "metadata": {
        "id": "bMWO74_rY5io"
      },
      "source": [
        "# U-Net Implementation"
      ]
    },
    {
      "cell_type": "code",
      "execution_count": null,
      "metadata": {
        "id": "xF-mTupiYTCj"
      },
      "outputs": [],
      "source": [
        "def double_conv_block(x, n_filters):\n",
        "    # Conv2D then ReLU activation\n",
        "    x = tf.keras.layers.Conv2D(n_filters, 3, padding = \"same\", activation = \"relu\", kernel_initializer = \"he_normal\")(x)\n",
        "   # Conv2D then ReLU activation\n",
        "    x = tf.keras.layers.Conv2D(n_filters, 3, padding = \"same\", activation = \"relu\", kernel_initializer = \"he_normal\")(x)\n",
        "    return x\n",
        "\n",
        "def downsample_block(x, n_filters):\n",
        "    f = double_conv_block(x, n_filters)\n",
        "    p = tf.keras.layers.MaxPool2D(2)(f)\n",
        "    p = tf.keras.layers.Dropout(0.3)(p)\n",
        "    return f, p\n",
        "\n",
        "def upsample_block(x, conv_features, n_filters):\n",
        "   # upsample\n",
        "    x = tf.keras.layers.Conv2DTranspose(n_filters, 3, 2, padding=\"same\")(x)\n",
        "   # concatenate\n",
        "    x = tf.keras.layers.concatenate([x, conv_features])\n",
        "   # dropout\n",
        "    x = tf.keras.layers.Dropout(0.3)(x)\n",
        "   # Conv2D twice with ReLU activation\n",
        "    x = double_conv_block(x, n_filters)\n",
        "    return x\n",
        "\n",
        "\n",
        "def build_unet_model():\n",
        "    # inputs\n",
        "    units = 128\n",
        "    inputs = tf.keras.layers.Input(shape=(units,units,1))\n",
        "   # encoder: contracting path - downsample\n",
        "   # 1 - downsample\n",
        "    f1, p1 = downsample_block(inputs, units/4)\n",
        "   # 2 - downsample\n",
        "    f2, p2 = downsample_block(p1, units/2)\n",
        "   # 3 - downsample\n",
        "    f3, p3 = downsample_block(p2, units*1)\n",
        "   # 4 - downsample\n",
        "    f4, p4 = downsample_block(p3, units*2)\n",
        "   # 5 - bottleneck\n",
        "    bottleneck = double_conv_block(p4, units*4)\n",
        "   # decoder: expanding path - upsample\n",
        "   # 6 - upsample\n",
        "    u6 = upsample_block(bottleneck, f4, units*2)\n",
        "   # 7 - upsample\n",
        "    u7 = upsample_block(u6, f3, units*1)\n",
        "   # 8 - upsample\n",
        "    u8 = upsample_block(u7, f2, units/2)\n",
        "   # 9 - upsample\n",
        "    u9 = upsample_block(u8, f1, units/4)\n",
        "   # outputs\n",
        "    outputs = tf.keras.layers.Conv2D(6, 1, padding=\"same\", activation = \"sigmoid\")(u9)\n",
        "   # unet model with Keras Functional API\n",
        "    unet_model = tf.keras.Model(inputs, outputs, name=\"U-Net\")\n",
        "\n",
        "    return unet_model"
      ]
    },
    {
      "cell_type": "code",
      "execution_count": null,
      "metadata": {
        "colab": {
          "base_uri": "https://localhost:8080/"
        },
        "id": "AncHaYF4YXb8",
        "outputId": "0649ea15-c5dc-4753-ff29-fba638c0f8f5"
      },
      "outputs": [
        {
          "output_type": "stream",
          "name": "stdout",
          "text": [
            "Existing model loaded\n"
          ]
        }
      ],
      "source": [
        "class_weights = [0.17649986,  7.78453571, 41.53978194, 65.20657672, 96.75504125,  6.40743063]\n",
        "\n",
        "try:\n",
        "  from tensorflow.keras.models import load_model\n",
        "  # model = load_model('/content/drive/MyDrive/RSNA_Abdominal_Trauma_Segmentations/Models/UnetV_128_epochs.h5', custom_objects={'lossFunc': weightedLoss, 'dice_coef_multilabel': dice_coef_multilabel})\n",
        "  model = load_model('/content/drive/MyDrive/RSNA_Abdominal_Trauma_Segmentations/Models/UnetV_128_epochs_IoUonly.h5', custom_objects={'lossFunc': weightedLoss, 'dice_coef_multilabel': dice_coef_multilabel})\n",
        "  print(\"Existing model loaded\")\n",
        "except:\n",
        "  model = build_unet_model()\n",
        "  print(\"New model loaded\")\n",
        "\n",
        "model.compile(optimizer=tf.keras.optimizers.Adam(learning_rate=0.000001),\n",
        "              # loss=weightedLoss(tf.keras.losses.categorical_crossentropy, class_weights),\n",
        "              # metrics=[dice_coef_multilabel, tf.keras.metrics.MeanIoU(num_classes=6), \"accuracy\"])\n",
        "              loss=tf.keras.losses.categorical_crossentropy,\n",
        "              metrics=tf.keras.metrics.MeanIoU(num_classes=6))"
      ]
    },
    {
      "cell_type": "markdown",
      "metadata": {
        "id": "NnIFo5h7Y-K7"
      },
      "source": [
        "# Model summary"
      ]
    },
    {
      "cell_type": "code",
      "execution_count": null,
      "metadata": {
        "id": "rgBWksPIYktY"
      },
      "outputs": [],
      "source": [
        "# model.summary()"
      ]
    },
    {
      "cell_type": "code",
      "execution_count": null,
      "metadata": {
        "id": "v-SDPfHlYsNa"
      },
      "outputs": [],
      "source": [
        "# tf.keras.utils.plot_model(model, show_shapes=True)"
      ]
    },
    {
      "cell_type": "markdown",
      "metadata": {
        "id": "GyjNTyhYZA6D"
      },
      "source": [
        "# TRAINING"
      ]
    },
    {
      "cell_type": "markdown",
      "metadata": {
        "id": "gHUCcRzW7HgQ"
      },
      "source": [
        "### DataGenerator"
      ]
    },
    {
      "cell_type": "code",
      "execution_count": null,
      "metadata": {
        "id": "3PnGW62u7JFu"
      },
      "outputs": [],
      "source": [
        "class DataGenerator(tf.keras.utils.Sequence):\n",
        "\n",
        "    def __init__(self, X_set: np.array, y_set: np.array, num_classes: int, batch_size: int) -> None:\n",
        "        \"\"\"_Initialization of data generator_\n",
        "\n",
        "        Parameters\n",
        "        ----------\n",
        "        X_set : np.array\n",
        "            _Set of images_\n",
        "        y_set : _np.array_\n",
        "            _Set of masks_\n",
        "        num_classes : _int_\n",
        "            _Number of classes_\n",
        "        batch_size : _int_\n",
        "            _Size of the batch taken from X_set and y_set_\n",
        "        \"\"\"\n",
        "        self.x, self.y = X_set, y_set\n",
        "        self.classes = num_classes\n",
        "        self.batch_size = batch_size\n",
        "\n",
        "    def __len__(self):\n",
        "        return math.ceil(len(self.x) / self.batch_size)\n",
        "\n",
        "    def __getitem__(self, index):\n",
        "        \"\"\"_Get item method for each epoch in training\n",
        "            and computes categorical values for\n",
        "            segmentation maks_\n",
        "\n",
        "        Parameters\n",
        "        ----------\n",
        "        index : _int_\n",
        "            _Integer utilized to return the batches_\n",
        "\n",
        "        Returns\n",
        "        -------\n",
        "        _np.array_\n",
        "            _Returns the batch from X_set and categorical btach from y_set_\n",
        "        \"\"\"\n",
        "        batch_x = self.x[index * self.batch_size:(index + 1) * self.batch_size]\n",
        "        batch_y = self.y[index * self.batch_size:(index + 1) * self.batch_size]\n",
        "\n",
        "        train_masks_cat = to_categorical(batch_y, num_classes=self.classes)\n",
        "        batch_y_categorical = train_masks_cat.reshape((batch_y.shape[0], batch_y.shape[1], batch_y.shape[2], self.classes))\n",
        "\n",
        "        return batch_x, batch_y_categorical"
      ]
    },
    {
      "cell_type": "markdown",
      "metadata": {
        "id": "Ge2YrhEI4W4_"
      },
      "source": [
        "### Data"
      ]
    },
    {
      "cell_type": "code",
      "execution_count": null,
      "metadata": {
        "id": "TeBhhbhK6nP5"
      },
      "outputs": [],
      "source": []
    },
    {
      "cell_type": "code",
      "execution_count": null,
      "metadata": {
        "id": "E4aj9iLtZCVo"
      },
      "outputs": [],
      "source": [
        "with open(f'/content/drive/MyDrive/RSNA_Abdominal_Trauma_Segmentations/Data/X_y_segmentations_data_0.npy', 'rb') as f:\n",
        "        X = np.load(f, allow_pickle = True)\n",
        "        y = np.load(f, allow_pickle = True)"
      ]
    },
    {
      "cell_type": "code",
      "execution_count": null,
      "metadata": {
        "colab": {
          "base_uri": "https://localhost:8080/"
        },
        "id": "aC4SLJ06avBB",
        "outputId": "ddf69514-5bb5-4bdc-bedf-8df70d2f4e28"
      },
      "outputs": [
        {
          "output_type": "stream",
          "name": "stdout",
          "text": [
            "(1000, 128, 128, 1) (1000, 128, 128, 1)\n"
          ]
        }
      ],
      "source": [
        "# Generate random indices for sampling\n",
        "indices = np.arange(len(X))\n",
        "np.random.shuffle(indices)\n",
        "num_samples = 1000\n",
        "# Select the first num_samples indices\n",
        "selected_indices = indices[:num_samples]\n",
        "\n",
        "# Use the selected indices to extract samples from X and Y\n",
        "X_test = X[selected_indices]\n",
        "Y_test = y[selected_indices]\n",
        "\n",
        "print(X_test.shape, Y_test.shape)"
      ]
    },
    {
      "cell_type": "code",
      "execution_count": null,
      "metadata": {
        "id": "MsOwYrKOIXJH",
        "colab": {
          "base_uri": "https://localhost:8080/"
        },
        "outputId": "71f5a207-d761-4c46-80a5-95179e1e6e58"
      },
      "outputs": [
        {
          "output_type": "execute_result",
          "data": {
            "text/plain": [
              "array([0, 1, 2, 3, 4, 5])"
            ]
          },
          "metadata": {},
          "execution_count": 12
        }
      ],
      "source": [
        "np.unique(y)"
      ]
    },
    {
      "cell_type": "code",
      "execution_count": null,
      "metadata": {
        "id": "5EF-Gptm5Xie"
      },
      "outputs": [],
      "source": [
        "data_generator = DataGenerator(X, y, 6, 128)\n",
        "data_generator_test = DataGenerator(X_test, Y_test, 6, 128)"
      ]
    },
    {
      "cell_type": "code",
      "execution_count": null,
      "metadata": {
        "id": "qzHi-GR8IjGF"
      },
      "outputs": [],
      "source": [
        "x, Y = data_generator[2]\n",
        "\n",
        "y_mask = np.argmax(Y, axis=3)"
      ]
    },
    {
      "cell_type": "code",
      "execution_count": null,
      "metadata": {
        "id": "2Q7xgwLfJRxe",
        "colab": {
          "base_uri": "https://localhost:8080/"
        },
        "outputId": "2dd6738c-5cd3-480b-a733-6c4d9fc525f3"
      },
      "outputs": [
        {
          "output_type": "execute_result",
          "data": {
            "text/plain": [
              "(128, 128, 128, 6)"
            ]
          },
          "metadata": {},
          "execution_count": 15
        }
      ],
      "source": [
        "Y.shape"
      ]
    },
    {
      "cell_type": "code",
      "execution_count": null,
      "metadata": {
        "id": "ZBCsEgNpInVZ",
        "colab": {
          "base_uri": "https://localhost:8080/",
          "height": 452
        },
        "outputId": "a269deb1-8b37-43fd-e763-1d70d76367a7"
      },
      "outputs": [
        {
          "output_type": "execute_result",
          "data": {
            "text/plain": [
              "<matplotlib.image.AxesImage at 0x7c05fff05660>"
            ]
          },
          "metadata": {},
          "execution_count": 16
        },
        {
          "output_type": "display_data",
          "data": {
            "text/plain": [
              "<Figure size 640x480 with 1 Axes>"
            ],
            "image/png": "[encoded data removed]"
          },
          "metadata": {}
        }
      ],
      "source": [
        "plt.imshow(y_mask[16,:,:], cmap=\"jet\")"
      ]
    },
    {
      "cell_type": "code",
      "execution_count": null,
      "metadata": {
        "id": "lEezH2po4zju",
        "colab": {
          "base_uri": "https://localhost:8080/"
        },
        "outputId": "e7ccac65-f6d4-4873-ee3b-6fa8318bc93f"
      },
      "outputs": [
        {
          "output_type": "stream",
          "name": "stdout",
          "text": [
            "Epoch 1/32\n"
          ]
        },
        {
          "output_type": "stream",
          "name": "stderr",
          "text": [
            "/usr/local/lib/python3.10/dist-packages/tensorflow/python/data/ops/structured_function.py:265: UserWarning: Even though the `tf.config.experimental_run_functions_eagerly` option is set, this option does not apply to tf.data functions. To force eager execution of tf.data functions, please use `tf.data.experimental.enable_debug_mode()`.\n",
            "  warnings.warn(\n"
          ]
        },
        {
          "output_type": "stream",
          "name": "stdout",
          "text": [
            "124/124 [==============================] - 151s 1s/step - loss: 0.1217 - mean_io_u: 0.6440 - val_loss: 0.1104 - val_mean_io_u: 0.6713\n",
            "Epoch 2/32\n",
            "124/124 [==============================] - 108s 870ms/step - loss: 0.1161 - mean_io_u: 0.6510 - val_loss: 0.1058 - val_mean_io_u: 0.6770\n",
            "Epoch 3/32\n",
            "124/124 [==============================] - 108s 872ms/step - loss: 0.1109 - mean_io_u: 0.6577 - val_loss: 0.1015 - val_mean_io_u: 0.6828\n",
            "Epoch 4/32\n",
            "124/124 [==============================] - 108s 873ms/step - loss: 0.1062 - mean_io_u: 0.6643 - val_loss: 0.0975 - val_mean_io_u: 0.6904\n",
            "Epoch 5/32\n",
            "124/124 [==============================] - 108s 873ms/step - loss: 0.1018 - mean_io_u: 0.6705 - val_loss: 0.0938 - val_mean_io_u: 0.6958\n",
            "Epoch 6/32\n",
            "124/124 [==============================] - 108s 873ms/step - loss: 0.0976 - mean_io_u: 0.6766 - val_loss: 0.0903 - val_mean_io_u: 0.7012\n",
            "Epoch 7/32\n",
            "124/124 [==============================] - 108s 874ms/step - loss: 0.0939 - mean_io_u: 0.6825 - val_loss: 0.0870 - val_mean_io_u: 0.7061\n",
            "Epoch 8/32\n",
            "124/124 [==============================] - 108s 873ms/step - loss: 0.0904 - mean_io_u: 0.6881 - val_loss: 0.0840 - val_mean_io_u: 0.7105\n",
            "Epoch 9/32\n",
            "124/124 [==============================] - 108s 874ms/step - loss: 0.0870 - mean_io_u: 0.6936 - val_loss: 0.0811 - val_mean_io_u: 0.7147\n",
            "Epoch 10/32\n",
            "124/124 [==============================] - 108s 873ms/step - loss: 0.0840 - mean_io_u: 0.6988 - val_loss: 0.0784 - val_mean_io_u: 0.7196\n",
            "Epoch 11/32\n",
            "124/124 [==============================] - 108s 873ms/step - loss: 0.0813 - mean_io_u: 0.7039 - val_loss: 0.0759 - val_mean_io_u: 0.7238\n",
            "Epoch 12/32\n",
            "124/124 [==============================] - 108s 872ms/step - loss: 0.0786 - mean_io_u: 0.7087 - val_loss: 0.0736 - val_mean_io_u: 0.7280\n",
            "Epoch 13/32\n",
            "124/124 [==============================] - 108s 873ms/step - loss: 0.0762 - mean_io_u: 0.7134 - val_loss: 0.0714 - val_mean_io_u: 0.7316\n",
            "Epoch 14/32\n",
            "124/124 [==============================] - 108s 873ms/step - loss: 0.0740 - mean_io_u: 0.7177 - val_loss: 0.0693 - val_mean_io_u: 0.7352\n",
            "Epoch 15/32\n",
            "124/124 [==============================] - 108s 873ms/step - loss: 0.0720 - mean_io_u: 0.7218 - val_loss: 0.0674 - val_mean_io_u: 0.7385\n",
            "Epoch 16/32\n",
            " 46/124 [==========>...................] - ETA: 1:06 - loss: 0.0634 - mean_io_u: 0.7391"
          ]
        }
      ],
      "source": [
        "history = model.fit(data_generator,\n",
        "                    validation_data=data_generator_test,\n",
        "                    verbose=1,\n",
        "                    epochs=32,\n",
        "                    shuffle=False)"
      ]
    },
    {
      "cell_type": "code",
      "execution_count": null,
      "metadata": {
        "id": "a-s6Fzkr74eH"
      },
      "outputs": [],
      "source": [
        "model.save(f'/content/drive/MyDrive/RSNA_Abdominal_Trauma_Segmentations/Models/UnetV_128_epochs_IoUonly.h5')"
      ]
    },
    {
      "cell_type": "code",
      "execution_count": null,
      "metadata": {
        "id": "SinZ9Hre5IIu"
      },
      "outputs": [],
      "source": [
        "def training_plot(metrics, history):\n",
        "    f, ax = plt.subplots(1, len(metrics), figsize=(5*len(metrics), 4))\n",
        "    for idx, metric in enumerate(metrics):\n",
        "        ax[idx].plot(history.history[metric], ls='dashed')\n",
        "        ax[idx].set_xlabel(\"Epochs\")\n",
        "        ax[idx].set_ylabel(metric)\n",
        "        ax[idx].plot(history.history['val_' + metric]);\n",
        "        ax[idx].legend([metric, 'val_' + metric])"
      ]
    },
    {
      "cell_type": "code",
      "execution_count": null,
      "metadata": {
        "id": "PudS_9I3tvaT"
      },
      "outputs": [],
      "source": [
        "# training_plot([\"loss\", \"dice_coef_multilabel\", \"mean_io_u\", \"accuracy\"], history)\n",
        "training_plot([\"loss\", \"mean_io_u\"], history)"
      ]
    },
    {
      "cell_type": "markdown",
      "metadata": {
        "id": "7-7bFy-nhNZD"
      },
      "source": [
        "# Evaluation"
      ]
    },
    {
      "cell_type": "code",
      "execution_count": null,
      "metadata": {
        "id": "D_2ACgvUu6Pb"
      },
      "outputs": [],
      "source": [
        "from tensorflow.keras.models import load_model\n",
        "\n",
        "Unet = load_model('/content/drive/MyDrive/RSNA_Abdominal_Trauma_Segmentations/Models/UnetV_128_epochs.h5', custom_objects={'lossFunc': weightedLoss, 'dice_coef_multilabel': dice_coef_multilabel})"
      ]
    },
    {
      "cell_type": "code",
      "execution_count": null,
      "metadata": {
        "id": "kz9ZVS9rity3"
      },
      "outputs": [],
      "source": [
        "class_weights = [0.17649986,  7.78453571, 41.53978194, 65.20657672, 96.75504125,  6.40743063]\n",
        "Unet.compile(optimizer=tf.keras.optimizers.Adam(learning_rate=0.001), loss=weightedLoss(tf.keras.losses.categorical_crossentropy, class_weights), metrics=[dice_coef_multilabel, tf.keras.metrics.MeanIoU(num_classes=6), \"accuracy\"])"
      ]
    },
    {
      "cell_type": "code",
      "execution_count": null,
      "metadata": {
        "id": "n3h5D1uWt6qs"
      },
      "outputs": [],
      "source": [
        "with open(f'/content/drive/MyDrive/RSNA_Abdominal_Trauma_Segmentations/Data/Validation_data/X_y_65504_55928_.npy', 'rb') as f:\n",
        "        X_val = np.load(f, allow_pickle = True)\n",
        "        y_val = np.load(f, allow_pickle = True)"
      ]
    },
    {
      "cell_type": "code",
      "execution_count": null,
      "metadata": {
        "id": "TMnBfXTCi8yI"
      },
      "outputs": [],
      "source": [
        "train_masks_cat = to_categorical(y_val, num_classes=6)\n",
        "y_train_cat = train_masks_cat.reshape((y_val.shape[0], y_val.shape[1], y_val.shape[2], 6))"
      ]
    },
    {
      "cell_type": "code",
      "execution_count": null,
      "metadata": {
        "id": "7qMV0sUbiHzs"
      },
      "outputs": [],
      "source": [
        "# Evaluation on unseen data\n",
        "evaluation = Unet.evaluate(X_val, y_train_cat)"
      ]
    },
    {
      "cell_type": "code",
      "execution_count": null,
      "metadata": {
        "id": "aTxB3wnOt58S"
      },
      "outputs": [],
      "source": [
        "y_pred = Unet.predict(X_val)\n",
        "y_pred_argmax=np.argmax(y_pred, axis=3)"
      ]
    },
    {
      "cell_type": "code",
      "execution_count": null,
      "metadata": {
        "id": "97Kz1eGhKeIx"
      },
      "outputs": [],
      "source": [
        "y_pred.shape"
      ]
    },
    {
      "cell_type": "code",
      "execution_count": null,
      "metadata": {
        "id": "Ka-OWEfhk_jK"
      },
      "outputs": [],
      "source": [
        "y_pred_argmax=np.argmax(y_pred, axis=3)\n",
        "y_pred_argmax.shape"
      ]
    },
    {
      "cell_type": "code",
      "execution_count": null,
      "metadata": {
        "id": "FUYYXm-HLToQ"
      },
      "outputs": [],
      "source": [
        "y_pred[100,:,:,5].dtype"
      ]
    },
    {
      "cell_type": "code",
      "execution_count": null,
      "metadata": {
        "id": "2UH3ZHkGx1Lz"
      },
      "outputs": [],
      "source": [
        "index = 100\n",
        "\n",
        "fig, axes = plt.subplots(1, 3, figsize=(10, 4))\n",
        "\n",
        "axes[0].imshow(X_val[index,:,:], cmap='gray')\n",
        "axes[0].set_title('Slice')\n",
        "\n",
        "axes[1].imshow(y_val[index,:,:], cmap='jet')\n",
        "axes[1].set_title('Ground truth')\n",
        "\n",
        "axes[2].imshow(y_pred_argmax[index,:,:], cmap='jet')\n",
        "axes[2].set_title('Prediction')\n",
        "\n",
        "plt.tight_layout()\n",
        "\n",
        "# Show the plot\n",
        "plt.show()"
      ]
    }
  ],
  "metadata": {
    "accelerator": "GPU",
    "colab": {
      "provenance": [],
      "gpuType": "T4"
    },
    "kernelspec": {
      "display_name": "Python 3",
      "name": "python3"
    },
    "language_info": {
      "name": "python"
    }
  },
  "nbformat": 4,
  "nbformat_minor": 0
}