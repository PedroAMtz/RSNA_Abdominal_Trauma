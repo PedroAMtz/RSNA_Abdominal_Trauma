{
 "cells": [
  {
   "cell_type": "markdown",
   "metadata": {},
   "source": [
    "## Numpy Preprocessing Validation"
   ]
  },
  {
   "cell_type": "code",
   "execution_count": null,
   "metadata": {},
   "outputs": [],
   "source": [
    "import numpy as np\n",
    "import pandas as pd\n",
    "import pydicom\n",
    "import cv2\n",
    "from scipy.ndimage import zoom\n",
    "from sklearn import preprocessing\n",
    "from glob import glob\n",
    "import re\n",
    "import sqlite3\n",
    "import matplotlib.pyplot as plt"
   ]
  },
  {
   "cell_type": "code",
   "execution_count": null,
   "metadata": {},
   "outputs": [],
   "source": [
    "def string_to_list(string_repr):\n",
    "    return eval(string_repr)"
   ]
  },
  {
   "cell_type": "code",
   "execution_count": null,
   "metadata": {},
   "outputs": [],
   "source": [
    "def window_converter(image, window_width=400, window_level=50):      \n",
    "    img_min = window_level - window_width // 2\n",
    "    img_max = window_level + window_width // 2\n",
    "    window_image = image.copy()\n",
    "    window_image[window_image < img_min] = img_min\n",
    "    window_image[window_image > img_max] = img_max\n",
    "    #image = (image / image.max() * 255).astype(np.float64)\n",
    "    return window_image\n",
    "\n",
    "def transform_to_hu(medical_image, image):\n",
    "    intercept = medical_image.RescaleIntercept\n",
    "    slope = medical_image.RescaleSlope\n",
    "    hu_image = image * slope + intercept\n",
    "    return hu_image\n",
    "\n",
    "def standardize_pixel_array(dcm: pydicom.dataset.FileDataset) -> np.ndarray:\n",
    "    # Correct DICOM pixel_array if PixelRepresentation == 1.\n",
    "        pixel_array = dcm.pixel_array\n",
    "        if dcm.PixelRepresentation == 1:\n",
    "            bit_shift = dcm.BitsAllocated - dcm.BitsStored\n",
    "            dtype = pixel_array.dtype \n",
    "            pixel_array = (pixel_array << bit_shift).astype(dtype) >> bit_shift\n",
    "        return pixel_array\n",
    "\n",
    "def resize_img(img_paths, target_size=(128, 128)):\n",
    "        volume_shape = (target_size[0], target_size[1], len(img_paths)) \n",
    "        volume = np.zeros(volume_shape, dtype=np.float64)\n",
    "        for i, image_path in enumerate(img_paths):\n",
    "            image = pydicom.read_file(image_path)\n",
    "            image = standardize_pixel_array(image)\n",
    "            hu_image = transform_to_hu(image_path, image)\n",
    "            window_image = window_converter(hu_image)\n",
    "            image = cv2.resize(window_image, target_size)\n",
    "            volume[:,:,i] = image\n",
    "        return volume\n",
    "    \n",
    "def change_depth_siz(patient_volume, target_depth=64):\n",
    "\tdesired_depth = target_depth\n",
    "\tcurrent_depth = patient_volume.shape[-1]\n",
    "\tdepth = current_depth / desired_depth\n",
    "\tdepth_factor = 1 / depth\n",
    "\timg_new = zoom(patient_volume, (1, 1, depth_factor), mode='nearest')\n",
    "\treturn img_new\n",
    "    \n",
    "def normalize_volume(resized_volume):\n",
    "\toriginal_shape = resized_volume.shape\n",
    "\tflattened_image = resized_volume.reshape((-1,))\n",
    "\tscaler = preprocessing.MinMaxScaler()\n",
    "\tnormalized_flattened_image = scaler.fit_transform(flattened_image.reshape((-1, 1)))\n",
    "\tnormalized_volume_image = normalized_flattened_image.reshape(original_shape)\n",
    "\treturn normalized_volume_image"
   ]
  },
  {
   "cell_type": "code",
   "execution_count": null,
   "metadata": {},
   "outputs": [],
   "source": [
    "def generate_patient_processed_data(list_img_paths, list_labels, target_size=(128,128), target_depth=64):\n",
    "\n",
    "    num_patients = len(list_img_paths)\n",
    "    height = target_size[0]\n",
    "    width = target_size[1]\n",
    "    depth = target_depth\n",
    "\n",
    "    volume_array = np.zeros((height, width, depth), dtype=np.float64)\n",
    "    labels_array = np.array(list_labels, dtype=np.float64)\n",
    "\n",
    "    print(\"Initializing data preprocessing with the following dimensions-> Volumes:{} Labels:{}\".format(volume_array.shape, labels_array.shape))\n",
    "\n",
    "    resized_images = resize_img(list_img_paths, target_size=target_size)\n",
    "    siz_volume = change_depth_siz(resized_images)\n",
    "    normalized_siz_volume = normalize_volume(siz_volume)\n",
    "\n",
    "    volume_array = normalized_siz_volume\n",
    "\n",
    "    return volume_array, labels_array"
   ]
  },
  {
   "cell_type": "code",
   "execution_count": null,
   "metadata": {},
   "outputs": [],
   "source": [
    "connection = sqlite3.connect(\"C:/Users/Daniel/Desktop/RSNA_Abdominal_Trauma/local_database/training_data.db\")\n",
    "# ATTENTION ABOUT THE TABLE FROM THE DB YOU CONNECT!!\n",
    "sql = pd.read_sql_query(\"SELECT * FROM base_data\", connection)\n",
    "data = pd.DataFrame(sql, columns =[\"Patient_id\", \"Series_id\", \"Patient_paths\", \"Patient_category\"])\n",
    "data['Patient_paths'] = data['Patient_paths'].apply(string_to_list)"
   ]
  },
  {
   "cell_type": "code",
   "execution_count": null,
   "metadata": {},
   "outputs": [],
   "source": [
    "for i in range(len(data)):\n",
    "    patient_data_volumes, _ = generate_patient_processed_data(data[\"Patient_paths\"][i],data[\"Patient_category\"][i], target_size=(128,128),target_depth=64)"
   ]
  },
  {
   "cell_type": "code",
   "execution_count": null,
   "metadata": {},
   "outputs": [],
   "source": [
    "rows = 8  # Number of rows in the subplot grid\n",
    "cols = 8  # Number of columns in the subplot grid\n",
    "depth = 64\n",
    "\n",
    "fig, axes = plt.subplots(rows, cols, figsize=(12, 12))\n",
    "fig.suptitle('3D Volume Slices')\n",
    "\n",
    "for d in range(depth):\n",
    "    row = d // cols\n",
    "    col = d % cols\n",
    "    \n",
    "    ax = axes[row, col]\n",
    "    ax.imshow(patient_data_volumes[0,:,:,d], cmap='gray')  # You can change the colormap if needed\n",
    "    ax.set_title(f\"Slice {d}\")\n",
    "    ax.axis('off')  # Turn off axis for cleaner visualization\n",
    "\n",
    "# Adjust layout\n",
    "plt.tight_layout()\n",
    "plt.subplots_adjust(top=0.9)  # Adjust the position of the suptitle\n",
    "\n",
    "# Show the plot\n",
    "plt.show()"
   ]
  }
 ],
 "metadata": {
  "language_info": {
   "name": "python"
  },
  "orig_nbformat": 4
 },
 "nbformat": 4,
 "nbformat_minor": 2
}
